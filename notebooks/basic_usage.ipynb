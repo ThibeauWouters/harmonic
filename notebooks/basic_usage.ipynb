{
  "cells": [
    {
      "cell_type": "markdown",
      "metadata": {
        "colab_type": "text",
        "id": "view-in-github"
      },
      "source": [
        "<a href=\"https://colab.research.google.com/github/astro-informatics/harmonic/blob/main/notebooks/basic_usage.ipynb\" target=\"_parent\"><img src=\"https://colab.research.google.com/assets/colab-badge.svg\" alt=\"Open In Colab\"/></a>"
      ]
    },
    {
      "cell_type": "markdown",
      "metadata": {
        "id": "jPCvO91ZUA7o"
      },
      "source": [
        "<center><img src=\"https://raw.githubusercontent.com/astro-informatics/harmonic/fa99200ddd9c942921439cfbadf30c6ede7226f3/docs/assets/harm_badge_simple.svg\" width=\"250\" height=\"250\"/>\n",
        "\n",
        "# [`harmonic`](https://github.com/astro-informatics/harmonic) - __Basic Usage__ Interactive Tutorial\n",
        "---\n",
        "\n",
        "In this interactive tutorial we demonstrate basic usage of `harmonic`, using [`emcee`](https://emcee.readthedocs.io/en/stable/) as the sampler.\n",
        "\n",
        "\n",
        "\n"
      ]
    },
    {
      "cell_type": "code",
      "execution_count": 1,
      "metadata": {
        "id": "XSCBJ_S4XvDe"
      },
      "outputs": [],
      "source": [
        "%%capture\n",
        "# Install packages\n",
        "%pip install harmonic emcee getdist"
      ]
    },
    {
      "cell_type": "code",
      "execution_count": 2,
      "metadata": {
        "id": "VZ7rtL7kcEV-"
      },
      "outputs": [],
      "source": [
        "%%capture\n",
        "# Google Colaboratory-specific: clone useful utils module from harmonic repo\n",
        "!git clone https://github.com/astro-informatics/harmonic.git"
      ]
    },
    {
      "cell_type": "code",
      "execution_count": 1,
      "metadata": {
        "id": "1OtVkBf7OAIF"
      },
      "outputs": [],
      "source": [
        "%%capture\n",
        "# Import modules\n",
        "import numpy as np\n",
        "import matplotlib.pyplot as plt\n",
        "import harmonic as hm\n",
        "from functools import partial\n",
        "import emcee\n",
        "from harmonic import model_nf\n",
        "import jax.numpy as jnp"
      ]
    },
    {
      "cell_type": "markdown",
      "metadata": {
        "id": "3bTCRZLeXULH"
      },
      "source": [
        "# Define Bayesian posterior function\n",
        "---\n",
        "\n",
        "Now we will need to define the log-posterior function of interest. \n",
        "\n",
        "As a working example for this basic tutorial we consider a log-likelihood given a standard 2-dimensional Gaussian\n",
        "\n",
        "$$\n",
        "f(x) = -\\frac{1}{2}x^{T}\\Sigma^{-1}x\n",
        "$$\n",
        "\n",
        "where for simplicity we have taken the mean $\\mu=0$ and dropped scaling factors, and assume a trivial uniform prior over an infinite interval. Under such conditions the log-posterior is given by"
      ]
    },
    {
      "cell_type": "code",
      "execution_count": 2,
      "metadata": {
        "id": "8PgO6f4VQSpD"
      },
      "outputs": [],
      "source": [
        "def ln_posterior(x, inv_cov):\n",
        "    \"\"\"Compute log_e of posterior of n dimensional multivariate Gaussian.\n",
        "\n",
        "    Args:\n",
        "\n",
        "        x: Position at which to evaluate posterior.\n",
        "\n",
        "    Returns:\n",
        "\n",
        "        double: Value of posterior at x.\n",
        "\n",
        "    \"\"\"\n",
        "\n",
        "    return -jnp.dot(x,jnp.dot(inv_cov,x))/2.0"
      ]
    },
    {
      "cell_type": "markdown",
      "metadata": {
        "id": "VAvoFPV8ZJ0Q"
      },
      "source": [
        "# Compute samples using `emcee`\n",
        "---\n",
        "\n",
        "We then sample from the posterior using an MCMC algorithm. While any MCMC approach can be used we sample using the `emcee` package.\n",
        "\n",
        "First we will need to define and initialise some variables."
      ]
    },
    {
      "cell_type": "code",
      "execution_count": 3,
      "metadata": {
        "id": "us1kBuWlQZTy"
      },
      "outputs": [],
      "source": [
        "# Define parameters for emcee sampling\n",
        "ndim = 2                    # Dimensions\n",
        "nchains = 200                # total number of chains to compute\n",
        "samples_per_chain = 5000    # number of samples per chain\n",
        "nburn = 2000                # number of samples to discard as burn in\n",
        "\n",
        "# Construct a trivial inverse covariance (identity matrix)\n",
        "inv_cov = np.zeros((ndim,ndim))\n",
        "diag_cov = np.ones(ndim)\n",
        "np.fill_diagonal(inv_cov, diag_cov) "
      ]
    },
    {
      "cell_type": "markdown",
      "metadata": {
        "id": "_HBc2vhRZh8o"
      },
      "source": [
        "Now we need to run the sampler."
      ]
    },
    {
      "cell_type": "code",
      "execution_count": 4,
      "metadata": {
        "id": "Eel3bSORQZW0"
      },
      "outputs": [],
      "source": [
        "# initialise random seed\n",
        "np.random.seed(1)\n",
        "\n",
        "# Set initial random position and state\n",
        "pos = np.random.rand(ndim * nchains).reshape((nchains, ndim)) \n",
        "rstate = np.random.get_state()\n",
        "\n",
        "# Instantiate and execute sampler \n",
        "sampler = emcee.EnsembleSampler(nchains, ndim, ln_posterior, args=[inv_cov])\n",
        "(pos, prob, state) = sampler.run_mcmc(pos, samples_per_chain, rstate0=rstate) \n",
        "\n",
        "# Collect samples into contiguous numpy arrays (discarding burn in)\n",
        "samples = np.ascontiguousarray(sampler.chain[:,nburn:,:])\n",
        "lnprob = np.ascontiguousarray(sampler.lnprobability[:,nburn:])"
      ]
    },
    {
      "cell_type": "markdown",
      "metadata": {
        "id": "hP6v_b7YZnEo"
      },
      "source": [
        "# Compute evidence using `harmonic`\n",
        "---\n",
        "\n",
        "`harmonic` requires only posterior samples.  There are no constraints on the type of sampling algorithm used.\n",
        "\n",
        "Once we have posterior samples to hand, they can be post-processed using `harmonic` to compute the Bayesian evidence."
      ]
    },
    {
      "cell_type": "markdown",
      "metadata": {
        "id": "6f2YXRKxZ-IR"
      },
      "source": [
        "## Collating samples using `harmonic.chains` class\n",
        "\n",
        "We first configure the chains into a `harmonic`-friendly shape, which we do as follows."
      ]
    },
    {
      "cell_type": "code",
      "execution_count": 5,
      "metadata": {
        "id": "eSxxNW1KQZZc"
      },
      "outputs": [],
      "source": [
        "# Instantiate harmonic's chains class \n",
        "chains = hm.Chains(ndim)\n",
        "chains.add_chains_3d(samples, lnprob)"
      ]
    },
    {
      "cell_type": "markdown",
      "metadata": {
        "id": "UsD1ymV2aK3u"
      },
      "source": [
        "Since we will subsequently learn the target distribution $\\varphi$ we split the samples into training and inference sets (we often use the common machine learning terminology \"test\" for the inference data-set)."
      ]
    },
    {
      "cell_type": "code",
      "execution_count": 6,
      "metadata": {
        "id": "efPNgW8qQZcW"
      },
      "outputs": [],
      "source": [
        "# Split the chains into the ones which will be used to train the machine \n",
        "# learning model and for inference\n",
        "chains_train, chains_infer = hm.utils.split_data(chains, training_proportion=0.5)"
      ]
    },
    {
      "cell_type": "markdown",
      "metadata": {
        "id": "Z0UhPgtWaUpb"
      },
      "source": [
        "## Train the machine learning model\n",
        "\n",
        "We simply select the model we wish to adopt and fit the model."
      ]
    },
    {
      "cell_type": "code",
      "execution_count": 7,
      "metadata": {
        "id": "WrB47hA3QZfM"
      },
      "outputs": [
        {
          "name": "stderr",
          "output_type": "stream",
          "text": [
            "Training NF, current loss: 2.785: 100%|██████████| 20/20 [01:28<00:00,  4.45s/it]\n"
          ]
        }
      ],
      "source": [
        "\"\"\"domains = [np.array([1E-1,1E1])]  # hyper-sphere bounding domain\n",
        "\n",
        "# Select model\n",
        "model = hm.model.HyperSphere(ndim, domains)\n",
        "\n",
        "# Train model\n",
        "fit_success = model.fit(chains_train.samples, chains_train.ln_posterior)\n",
        "\n",
        "\"\"\"# Select rational quadratic spline with default parameters\n",
        "import jax.numpy as jnp\n",
        "n_layers =8\n",
        "temperature = 0.9\n",
        "momentum = 0.9\n",
        "learning_rate = 0.002\n",
        "#model = hm.model_nf.RQSplineModel(ndim, n_layers=n_layers, standardize=True, learning_rate = learning_rate, momentum=momentum, temperature=temperature)\n",
        "model = model_nf.RealNVPModel(ndim, standardize=True, temperature=temperature)\n",
        "epochs_num = 20\n",
        "# Train model\n",
        "model.fit(jnp.array(chains_train.samples), epochs=epochs_num, verbose= True)"
      ]
    },
    {
      "cell_type": "markdown",
      "metadata": {
        "id": "-Nh_lQnzbGGv"
      },
      "source": [
        "## Posterior triangle plot\n",
        "\n",
        "Let's also plot slices of the posterior using these samples to see what we're working with! It is important for the concentrated flow (here we set temperature equal to 0.9) to be contained within the posterior. If this is not the case, the evidence estimate will not be accurate. If the flow is not contained within the posterior, try reducing the temperature or learning the posterior better by training for longer or changing the model architecture or hyperparameters."
      ]
    },
    {
      "cell_type": "code",
      "execution_count": 8,
      "metadata": {
        "colab": {
          "base_uri": "https://localhost:8080/",
          "height": 297
        },
        "id": "AUOB38wrQxEu",
        "outputId": "1b1bc316-b9b2-4ae6-fff0-e059bf65e849"
      },
      "outputs": [
        {
          "data": {
            "image/png": "[encoded data removed]",
            "text/plain": [
              "<Figure size 413.386x413.386 with 3 Axes>"
            ]
          },
          "metadata": {},
          "output_type": "display_data"
        }
      ],
      "source": [
        "import sys\n",
        "sys.path.append(\"../examples\")\n",
        "import utils as ex_utils\n",
        "\n",
        "samples = samples.reshape((-1, ndim))\n",
        "samp_num = samples.shape[0]\n",
        "flow_samples = model.sample(samp_num)\n",
        "ex_utils.plot_getdist_compare(samples, flow_samples)"
      ]
    },
    {
      "cell_type": "markdown",
      "metadata": {
        "id": "es7_BU7_ao4q"
      },
      "source": [
        "## Compute the Bayesian evidence\n",
        "\n",
        "Finally we simply compute the learnt harmonic mean estimator as follows."
      ]
    },
    {
      "cell_type": "code",
      "execution_count": 9,
      "metadata": {
        "id": "yP3AjUrCQZhh"
      },
      "outputs": [],
      "source": [
        "# Instantiate harmonic's evidence class\n",
        "ev = hm.Evidence(chains_infer.nchains, model)\n",
        "\n",
        "# Pass the evidence class the inference chains and compute the evidence!\n",
        "ev.add_chains(chains_infer)\n",
        "evidence, evidence_std = ev.compute_evidence()"
      ]
    },
    {
      "cell_type": "markdown",
      "metadata": {
        "id": "7i4yV2Yyat0x"
      },
      "source": [
        "# Results\n",
        "---\n",
        "\n",
        "Let's check the evidence value computed."
      ]
    },
    {
      "cell_type": "markdown",
      "metadata": {
        "id": "_37pQ-HWa1Cf"
      },
      "source": [
        "## Analytic value\n",
        "\n",
        "As this is a standard 2-dimensional Gaussian the evidence is analytically tractable and given by"
      ]
    },
    {
      "cell_type": "code",
      "execution_count": 10,
      "metadata": {
        "id": "YMQ9m747TAOT"
      },
      "outputs": [],
      "source": [
        "def ln_analytic_evidence(ndim, cov):\n",
        "    \"\"\"Compute analytic evidence for nD Gaussian.\n",
        "\n",
        "    Args:\n",
        "\n",
        "        ndim: Dimension of Gaussian.\n",
        "\n",
        "        cov: Covariance matrix.\n",
        "\n",
        "    Returns:\n",
        "\n",
        "        double: Analytic evidence.\n",
        "\n",
        "    \"\"\"\n",
        "    \n",
        "    ln_norm_lik = 0.5*ndim*np.log(2*np.pi) + 0.5*np.log(np.linalg.det(cov))\n",
        "    return ln_norm_lik\n",
        "\n",
        "ln_inv_evidence_analytic = -ln_analytic_evidence(ndim, inv_cov)\n",
        "ln_inv_evidence = ev.ln_evidence_inv\n",
        "err_ln_inv_evidence = ev.compute_ln_inv_evidence_errors()"
      ]
    },
    {
      "cell_type": "markdown",
      "metadata": {
        "id": "0q64MMxea-oo"
      },
      "source": [
        "Let's compare the value computed by `harmonic` and analytically"
      ]
    },
    {
      "cell_type": "code",
      "execution_count": 11,
      "metadata": {
        "colab": {
          "base_uri": "https://localhost:8080/"
        },
        "id": "AbPq2cP6QZoR",
        "outputId": "5605db26-d6ec-4fb6-8c52-ab068d065e11"
      },
      "outputs": [
        {
          "name": "stdout",
          "output_type": "stream",
          "text": [
            "ln inverse evidence (harmonic) = -1.8372667137673744 +/- (-0.0011703851282975422, 0.0011690169281140409)\n",
            "ln inverse evidence (analytic) = -1.8378770664093453\n",
            "nsigma = [-0.52149726  0.52210762]\n"
          ]
        }
      ],
      "source": [
        "print('ln inverse evidence (harmonic) = {} +/- {}'.format(ln_inv_evidence, err_ln_inv_evidence))\n",
        "print('ln inverse evidence (analytic) = {}'.format(ln_inv_evidence_analytic))\n",
        "print('nsigma = {}'.format(np.abs(ln_inv_evidence - ln_inv_evidence_analytic) / err_ln_inv_evidence))"
      ]
    },
    {
      "cell_type": "markdown",
      "metadata": {
        "id": "slSx0i6mbExE"
      },
      "source": [
        "As expected, the evidence computed by `harmonic` is close to that computed analytically."
      ]
    }
  ],
  "metadata": {
    "colab": {
      "authorship_tag": "ABX9TyOuisDf5/8oQjWLVUhGuTZA",
      "collapsed_sections": [],
      "include_colab_link": true,
      "name": "basic_usage.ipynb",
      "provenance": [],
      "toc_visible": true
    },
    "kernelspec": {
      "display_name": "Python 3",
      "name": "python3"
    },
    "language_info": {
      "codemirror_mode": {
        "name": "ipython",
        "version": 3
      },
      "file_extension": ".py",
      "mimetype": "text/x-python",
      "name": "python",
      "nbconvert_exporter": "python",
      "pygments_lexer": "ipython3",
      "version": "3.9.18"
    }
  },
  "nbformat": 4,
  "nbformat_minor": 0
}
