{
  "nbformat": 4,
  "nbformat_minor": 0,
  "metadata": {
    "colab": {
      "name": "basic_usage.ipynb",
      "provenance": [],
      "collapsed_sections": [],
      "toc_visible": true,
      "authorship_tag": "ABX9TyO7BCTxo9yHvIjbwJP0vmPN",
      "include_colab_link": true
    },
    "kernelspec": {
      "name": "python3",
      "display_name": "Python 3"
    },
    "language_info": {
      "name": "python"
    }
  },
  "cells": [
    {
      "cell_type": "markdown",
      "metadata": {
        "id": "view-in-github",
        "colab_type": "text"
      },
      "source": [
        "<a href=\"https://colab.research.google.com/github/astro-informatics/harmonic/blob/main/notebooks/basic_usage.ipynb\" target=\"_parent\"><img src=\"https://colab.research.google.com/assets/colab-badge.svg\" alt=\"Open In Colab\"/></a>"
      ]
    },
    {
      "cell_type": "markdown",
      "metadata": {
        "id": "jPCvO91ZUA7o"
      },
      "source": [
        "<center><img src=\"https://raw.githubusercontent.com/astro-informatics/harmonic/fa99200ddd9c942921439cfbadf30c6ede7226f3/docs/assets/harm_badge_simple.svg\" width=\"250\" height=\"250\"/>\n",
        "\n",
        "# [`harmonic`](https://github.com/astro-informatics/harmonic) - __Basic Usage__ Interactive Tutorial\n",
        "---\n",
        "\n",
        "In this interactive tutorial we demonstrate basic usage of `harmonic`, using [`emcee`](https://emcee.readthedocs.io/en/stable/) as the sampler.\n",
        "\n",
        "\n",
        "\n"
      ]
    },
    {
      "cell_type": "code",
      "metadata": {
        "id": "XSCBJ_S4XvDe"
      },
      "source": [
        "%%capture\n",
        "# Install packages\n",
        "%pip install harmonic emcee corner getdist"
      ],
      "execution_count": 1,
      "outputs": []
    },
    {
      "cell_type": "code",
      "metadata": {
        "id": "VZ7rtL7kcEV-"
      },
      "source": [
        "%%capture\n",
        "# Google Colaboratory-specific: clone useful utils module from harmonic repo\n",
        "!git clone https://github.com/astro-informatics/harmonic.git\n",
        "import sys\n",
        "sys.path.append(\"harmonic/examples\")"
      ],
      "execution_count": 2,
      "outputs": []
    },
    {
      "cell_type": "code",
      "metadata": {
        "id": "1OtVkBf7OAIF"
      },
      "source": [
        "%%capture\n",
        "# Import modules\n",
        "import numpy as np\n",
        "import matplotlib.pyplot as plt\n",
        "import harmonic as hm\n",
        "from functools import partial\n",
        "import emcee\n",
        "import utils"
      ],
      "execution_count": 3,
      "outputs": []
    },
    {
      "cell_type": "markdown",
      "metadata": {
        "id": "3bTCRZLeXULH"
      },
      "source": [
        "# Define Bayesian posterior function\n",
        "---\n",
        "\n",
        "Now we will need to define the log-posterior function of interest. \n",
        "\n",
        "As a working example for this basic tutorial we consider a log-likelihood given a standard 2-dimensional Gaussian\n",
        "\n",
        "$$\n",
        "f(x) = -\\frac{1}{2}x^{T}\\Sigma^{-1}x\n",
        "$$\n",
        "\n",
        "where for simplicity we have taken the mean $\\mu=0$ and dropped scaling factors, and assume a trivial uniform prior over an infinite interval. Under such conditions the log-posterior is given by"
      ]
    },
    {
      "cell_type": "code",
      "metadata": {
        "id": "8PgO6f4VQSpD"
      },
      "source": [
        "def ln_posterior(x, inv_cov):\n",
        "    \"\"\"Compute log_e of posterior of n dimensional multivariate Gaussian.\n",
        "\n",
        "    Args:\n",
        "\n",
        "        x: Position at which to evaluate posterior.\n",
        "\n",
        "    Returns:\n",
        "\n",
        "        double: Value of posterior at x.\n",
        "\n",
        "    \"\"\"\n",
        "\n",
        "    return -np.dot(x,np.dot(inv_cov,x))/2.0"
      ],
      "execution_count": 4,
      "outputs": []
    },
    {
      "cell_type": "markdown",
      "metadata": {
        "id": "VAvoFPV8ZJ0Q"
      },
      "source": [
        "# Compute samples using `emcee`\n",
        "---\n",
        "\n",
        "We then sample from the posterior using an MCMC algorithm. While any MCMC approach can be used we sample using the `emcee` package.\n",
        "\n",
        "First we will need to define and initialise some variables."
      ]
    },
    {
      "cell_type": "code",
      "metadata": {
        "id": "us1kBuWlQZTy"
      },
      "source": [
        "# Define parameters for emcee sampling\n",
        "ndim = 2                    # Dimensions\n",
        "nchains = 200                # total number of chains to compute\n",
        "samples_per_chain = 5000    # number of samples per chain\n",
        "nburn = 2000                # number of samples to discard as burn in\n",
        "\n",
        "# Construct a trivial inverse covariance (identity matrix)\n",
        "inv_cov = np.zeros((ndim,ndim))\n",
        "diag_cov = np.ones(ndim)\n",
        "np.fill_diagonal(inv_cov, diag_cov) "
      ],
      "execution_count": 5,
      "outputs": []
    },
    {
      "cell_type": "markdown",
      "metadata": {
        "id": "_HBc2vhRZh8o"
      },
      "source": [
        "Now we need to run the sampler."
      ]
    },
    {
      "cell_type": "code",
      "metadata": {
        "id": "Eel3bSORQZW0"
      },
      "source": [
        "# Set initial random position and state\n",
        "pos = np.random.rand(ndim * nchains).reshape((nchains, ndim)) \n",
        "rstate = np.random.get_state()\n",
        "\n",
        "# Instantiate and execute sampler \n",
        "sampler = emcee.EnsembleSampler(nchains, ndim, ln_posterior, args=[inv_cov])\n",
        "(pos, prob, state) = sampler.run_mcmc(pos, samples_per_chain, rstate0=rstate) \n",
        "\n",
        "# Collect samples into contiguous numpy arrays (discarding burn in)\n",
        "samples = np.ascontiguousarray(sampler.chain[:,nburn:,:])\n",
        "lnprob = np.ascontiguousarray(sampler.lnprobability[:,nburn:])"
      ],
      "execution_count": 6,
      "outputs": []
    },
    {
      "cell_type": "markdown",
      "metadata": {
        "id": "hP6v_b7YZnEo"
      },
      "source": [
        "# Compute evidence using `harmonic`\n",
        "---\n",
        "\n",
        "`harmonic` requires only posterior samples.  There are no constraints on the type of sampling algorithm used.\n",
        "\n",
        "Once we have posterior samples to hand, they can be post-processed using `harmonic` to compute the Bayesian evidence."
      ]
    },
    {
      "cell_type": "markdown",
      "metadata": {
        "id": "6f2YXRKxZ-IR"
      },
      "source": [
        "## Collating samples using `harmonic.chains` class\n",
        "\n",
        "We first configure the chains into a `harmonic`-friendly shape, which we do as follows."
      ]
    },
    {
      "cell_type": "code",
      "metadata": {
        "id": "eSxxNW1KQZZc"
      },
      "source": [
        "# Instantiate harmonic's chains class \n",
        "chains = hm.Chains(ndim)\n",
        "chains.add_chains_3d(samples, lnprob)"
      ],
      "execution_count": 7,
      "outputs": []
    },
    {
      "cell_type": "markdown",
      "metadata": {
        "id": "UsD1ymV2aK3u"
      },
      "source": [
        "Since we will subsequently learn the target distribution $\\varphi$ we split the samples into training and inference sets (we often use the common machine learning terminology \"test\" for the inference data-set)."
      ]
    },
    {
      "cell_type": "code",
      "metadata": {
        "id": "efPNgW8qQZcW"
      },
      "source": [
        "# Split the chains into the ones which will be used to train the machine \n",
        "# learning model and for inference\n",
        "chains_train, chains_infer = hm.utils.split_data(chains, training_proportion=0.5)"
      ],
      "execution_count": 8,
      "outputs": []
    },
    {
      "cell_type": "markdown",
      "metadata": {
        "id": "Z0UhPgtWaUpb"
      },
      "source": [
        "## Train the machine learning model\n",
        "\n",
        "For simplicity we will manually select hyper-parameters and train a machine learning model using `chains_train`. See other tutorials that use cross-validation to select hyper-parameters and different models.\n",
        "\n",
        "In this case, we simply select the model we wish to adopt and fit the model."
      ]
    },
    {
      "cell_type": "code",
      "metadata": {
        "id": "WrB47hA3QZfM"
      },
      "source": [
        "domains = [np.array([1E-1,1E1])]  # hyper-sphere bounding domain\n",
        "\n",
        "# Select model\n",
        "model = hm.model.HyperSphere(ndim, domains)\n",
        "\n",
        "# Train model\n",
        "fit_success = model.fit(chains_train.samples, chains_train.ln_posterior)"
      ],
      "execution_count": 9,
      "outputs": []
    },
    {
      "cell_type": "markdown",
      "metadata": {
        "id": "es7_BU7_ao4q"
      },
      "source": [
        "## Compute the Bayesian evidence\n",
        "\n",
        "Finally we simply compute the learnt harmonic mean estimator as follows."
      ]
    },
    {
      "cell_type": "code",
      "metadata": {
        "id": "yP3AjUrCQZhh"
      },
      "source": [
        "# Instantiate harmonic's evidence class\n",
        "ev = hm.Evidence(chains_infer.nchains, model)\n",
        "\n",
        "# Pass the evidence class the inference chains and compute the evidence!\n",
        "ev.add_chains(chains_infer)\n",
        "evidence, evidence_std = ev.compute_evidence()"
      ],
      "execution_count": 10,
      "outputs": []
    },
    {
      "cell_type": "markdown",
      "metadata": {
        "id": "7i4yV2Yyat0x"
      },
      "source": [
        "# Results\n",
        "---\n",
        "\n",
        "Let's check the evidence value computed and also plot the posterior."
      ]
    },
    {
      "cell_type": "markdown",
      "metadata": {
        "id": "_37pQ-HWa1Cf"
      },
      "source": [
        "## Numerical integration\n",
        "\n",
        "As this is a standard 2-dimensional Gaussian the evidence is analytic and given by"
      ]
    },
    {
      "cell_type": "code",
      "metadata": {
        "id": "YMQ9m747TAOT"
      },
      "source": [
        "def ln_analytic_evidence(ndim, cov):\n",
        "    \"\"\"Compute analytic evidence for nD Gaussian.\n",
        "\n",
        "    Args:\n",
        "\n",
        "        ndim: Dimension of Gaussian.\n",
        "\n",
        "        cov: Covariance matrix.\n",
        "\n",
        "    Returns:\n",
        "\n",
        "        double: Analytic evidence.\n",
        "\n",
        "    \"\"\"\n",
        "    \n",
        "    ln_norm_lik = 0.5*ndim*np.log(2*np.pi) + 0.5*np.log(np.linalg.det(cov))\n",
        "    return ln_norm_lik\n",
        "\n",
        "evidence_analytic = np.exp(ln_analytic_evidence(ndim, inv_cov))"
      ],
      "execution_count": 11,
      "outputs": []
    },
    {
      "cell_type": "markdown",
      "metadata": {
        "id": "0q64MMxea-oo"
      },
      "source": [
        "Let's compare the value computed by `harmonic` and by numerical integration."
      ]
    },
    {
      "cell_type": "code",
      "metadata": {
        "colab": {
          "base_uri": "https://localhost:8080/"
        },
        "id": "AbPq2cP6QZoR",
        "outputId": "41dcbf4f-59be-4264-b4a7-c08a1a663b1b"
      },
      "source": [
        "print('evidence (harmonic) = {} +/- {}'.format(evidence, evidence_std))\n",
        "print('evidence (analytic) = {}'.format(evidence_analytic))\n",
        "print('nsigma = {}'.format(np.abs(evidence - evidence_analytic) / evidence_std))"
      ],
      "execution_count": 12,
      "outputs": [
        {
          "output_type": "stream",
          "name": "stdout",
          "text": [
            "evidence (harmonic) = 6.276903812038723 +/- 0.014321439871813021\n",
            "evidence (analytic) = 6.283185307179585\n",
            "nsigma = 0.4386077934262112\n"
          ]
        }
      ]
    },
    {
      "cell_type": "markdown",
      "metadata": {
        "id": "slSx0i6mbExE"
      },
      "source": [
        "As expected, the evidence computed by `harmonic` is close to that computed by numerical integration."
      ]
    },
    {
      "cell_type": "markdown",
      "metadata": {
        "id": "-Nh_lQnzbGGv"
      },
      "source": [
        "## Posterior triangle plot\n",
        "\n",
        "Out of interest let's also plot slices of the posterior using these samples to see what we're working with!"
      ]
    },
    {
      "cell_type": "code",
      "metadata": {
        "colab": {
          "base_uri": "https://localhost:8080/",
          "height": 297
        },
        "id": "AUOB38wrQxEu",
        "outputId": "ccb16fb0-787c-4c83-997e-7f2e8f8dd6e7"
      },
      "source": [
        "utils.plot_getdist(samples.reshape((-1, ndim)))"
      ],
      "execution_count": 13,
      "outputs": [
        {
          "output_type": "display_data",
          "data": {
            "image/png": "[encoded data removed]",
            "text/plain": [
              "<Figure size 288x288 with 3 Axes>"
            ]
          },
          "metadata": {
            "needs_background": "light"
          }
        }
      ]
    }
  ]
}