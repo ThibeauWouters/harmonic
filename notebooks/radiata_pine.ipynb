{
 "cells": [
  {
   "cell_type": "markdown",
   "metadata": {},
   "source": [
    "# Radiata Pine example"
   ]
  },
  {
   "cell_type": "code",
   "execution_count": 5,
   "metadata": {
    "collapsed": true
   },
   "outputs": [],
   "source": [
    "import numpy as np\n",
    "import sys\n",
    "import emcee\n",
    "import scipy.special as sp"
   ]
  },
  {
   "cell_type": "code",
   "execution_count": 2,
   "metadata": {
    "collapsed": true
   },
   "outputs": [],
   "source": [
    "data = np.loadtxt('../examples/data/RadiataPine.dat')"
   ]
  },
  {
   "cell_type": "code",
   "execution_count": 3,
   "metadata": {},
   "outputs": [
    {
     "name": "stdout",
     "output_type": "stream",
     "text": [
      "[[1.00e+00 3.04e+03 2.92e+01 2.54e+01]\n",
      " [2.00e+00 2.47e+03 2.47e+01 2.22e+01]\n",
      " [3.00e+00 3.61e+03 3.23e+01 3.22e+01]\n",
      " [4.00e+00 3.48e+03 3.13e+01 3.10e+01]\n",
      " [5.00e+00 3.81e+03 3.15e+01 3.09e+01]\n",
      " [6.00e+00 2.33e+03 2.45e+01 2.39e+01]\n",
      " [7.00e+00 1.80e+03 1.99e+01 1.92e+01]\n",
      " [8.00e+00 3.11e+03 2.73e+01 2.72e+01]\n",
      " [9.00e+00 3.67e+03 3.23e+01 2.90e+01]\n",
      " [1.00e+01 2.31e+03 2.40e+01 2.39e+01]\n",
      " [1.10e+01 4.36e+03 3.38e+01 3.32e+01]\n",
      " [1.20e+01 1.88e+03 2.15e+01 2.10e+01]\n",
      " [1.30e+01 3.67e+03 3.22e+01 2.90e+01]\n",
      " [1.40e+01 1.74e+03 2.25e+01 2.20e+01]\n",
      " [1.50e+01 2.25e+03 2.75e+01 2.38e+01]\n",
      " [1.60e+01 2.65e+03 2.56e+01 2.53e+01]\n",
      " [1.70e+01 4.97e+03 3.45e+01 3.42e+01]\n",
      " [1.80e+01 2.62e+03 2.62e+01 2.57e+01]\n",
      " [1.90e+01 2.90e+03 2.67e+01 2.64e+01]\n",
      " [2.00e+01 1.67e+03 2.11e+01 2.00e+01]\n",
      " [2.10e+01 2.54e+03 2.41e+01 2.39e+01]\n",
      " [2.20e+01 3.84e+03 3.07e+01 3.07e+01]\n",
      " [2.30e+01 3.80e+03 3.27e+01 3.26e+01]\n",
      " [2.40e+01 4.60e+03 3.26e+01 3.25e+01]\n",
      " [2.50e+01 1.90e+03 2.21e+01 2.08e+01]\n",
      " [2.60e+01 2.53e+03 2.53e+01 2.31e+01]\n",
      " [2.70e+01 2.92e+03 3.08e+01 2.98e+01]\n",
      " [2.80e+01 4.99e+03 3.89e+01 3.81e+01]\n",
      " [2.90e+01 1.67e+03 2.21e+01 2.13e+01]\n",
      " [3.00e+01 3.31e+03 2.92e+01 2.85e+01]\n",
      " [3.10e+01 3.45e+03 3.01e+01 2.92e+01]\n",
      " [3.20e+01 3.60e+03 3.14e+01 3.14e+01]\n",
      " [3.30e+01 2.85e+03 2.67e+01 2.59e+01]\n",
      " [3.40e+01 1.59e+03 2.21e+01 2.14e+01]\n",
      " [3.50e+01 3.77e+03 3.03e+01 2.98e+01]\n",
      " [3.60e+01 3.85e+03 3.20e+01 3.06e+01]\n",
      " [3.70e+01 2.48e+03 2.32e+01 2.26e+01]\n",
      " [3.80e+01 3.57e+03 3.03e+01 3.03e+01]\n",
      " [3.90e+01 2.62e+03 2.99e+01 2.38e+01]\n",
      " [4.00e+01 1.89e+03 2.08e+01 1.84e+01]\n",
      " [4.10e+01 3.03e+03 3.32e+01 2.94e+01]\n",
      " [4.20e+01 3.03e+03 2.82e+01 2.82e+01]]\n"
     ]
    }
   ],
   "source": [
    "print(data)"
   ]
  },
  {
   "cell_type": "code",
   "execution_count": 4,
   "metadata": {
    "collapsed": true
   },
   "outputs": [],
   "source": [
    "id = data[:,0]\n",
    "y = data[:,1]\n",
    "x = data[:,2]\n",
    "z = data[:,3]"
   ]
  },
  {
   "cell_type": "code",
   "execution_count": 43,
   "metadata": {},
   "outputs": [
    {
     "data": {
      "text/plain": [
       "3480.0"
      ]
     },
     "execution_count": 43,
     "metadata": {},
     "output_type": "execute_result"
    }
   ],
   "source": [
    "y[3,0]"
   ]
  },
  {
   "cell_type": "code",
   "execution_count": null,
   "metadata": {
    "collapsed": true
   },
   "outputs": [],
   "source": []
  },
  {
   "cell_type": "code",
   "execution_count": 5,
   "metadata": {
    "collapsed": true
   },
   "outputs": [],
   "source": [
    "n = len(x)"
   ]
  },
  {
   "cell_type": "code",
   "execution_count": 6,
   "metadata": {
    "collapsed": true
   },
   "outputs": [],
   "source": [
    "# Ensure column vectors\n",
    "y = y.reshape(n,1)\n",
    "x = x.reshape(n,1)\n",
    "z = z.reshape(n,1)"
   ]
  },
  {
   "cell_type": "code",
   "execution_count": 7,
   "metadata": {
    "collapsed": true
   },
   "outputs": [],
   "source": [
    "# CHECK THIS\n",
    "x = x - np.mean(x)\n",
    "z = z - np.mean(z)"
   ]
  },
  {
   "cell_type": "code",
   "execution_count": 8,
   "metadata": {},
   "outputs": [
    {
     "data": {
      "text/plain": [
       "array([[0.06, 0.  ],\n",
       "       [0.  , 6.  ]])"
      ]
     },
     "execution_count": 8,
     "metadata": {},
     "output_type": "execute_result"
    }
   ],
   "source": [
    "r_0 = 0.06\n",
    "s_0 = 6\n",
    "Q_0 = np.diag([r_0, s_0])\n",
    "Q_0"
   ]
  },
  {
   "cell_type": "code",
   "execution_count": 9,
   "metadata": {
    "collapsed": true
   },
   "outputs": [],
   "source": [
    "mu_0 = np.array([[3000], [185]])"
   ]
  },
  {
   "cell_type": "code",
   "execution_count": 10,
   "metadata": {
    "collapsed": true
   },
   "outputs": [],
   "source": [
    "a_0 = 6\n",
    "b_0 = 4 * 300**2"
   ]
  },
  {
   "cell_type": "code",
   "execution_count": 40,
   "metadata": {},
   "outputs": [
    {
     "data": {
      "text/plain": [
       "(2, 1)"
      ]
     },
     "execution_count": 40,
     "metadata": {},
     "output_type": "execute_result"
    }
   ],
   "source": [
    "mu_0.shape"
   ]
  },
  {
   "cell_type": "code",
   "execution_count": null,
   "metadata": {
    "collapsed": true
   },
   "outputs": [],
   "source": []
  },
  {
   "cell_type": "code",
   "execution_count": 12,
   "metadata": {
    "collapsed": true
   },
   "outputs": [],
   "source": [
    "X = np.c_[np.ones((n, 1)), x] \n",
    "Z = np.c_[np.ones((n, 1)), z] "
   ]
  },
  {
   "cell_type": "code",
   "execution_count": 13,
   "metadata": {},
   "outputs": [
    {
     "data": {
      "text/plain": [
       "array([[ 4.20600000e+01, -1.84741111e-13],\n",
       "       [-1.84741111e-13,  8.52738333e+02]])"
      ]
     },
     "execution_count": 13,
     "metadata": {},
     "output_type": "execute_result"
    }
   ],
   "source": [
    "M_x = X.T.dot(X) + Q_0\n",
    "M_x"
   ]
  },
  {
   "cell_type": "code",
   "execution_count": 14,
   "metadata": {},
   "outputs": [
    {
     "data": {
      "text/plain": [
       "array([[ 4.20600000e+01, -2.45137244e-13],\n",
       "       [-2.45137244e-13,  8.96064762e+02]])"
      ]
     },
     "execution_count": 14,
     "metadata": {},
     "output_type": "execute_result"
    }
   ],
   "source": [
    "M_z = Z.T.dot(Z) + Q_0\n",
    "M_z"
   ]
  },
  {
   "cell_type": "code",
   "execution_count": 15,
   "metadata": {
    "collapsed": true
   },
   "outputs": [],
   "source": [
    "R_x = np.eye(42) - X.dot(np.linalg.inv(M_x)).dot(X.T)"
   ]
  },
  {
   "cell_type": "code",
   "execution_count": 16,
   "metadata": {
    "collapsed": true
   },
   "outputs": [],
   "source": [
    "R_z = np.eye(42) - Z.dot(np.linalg.inv(M_z)).dot(Z.T)"
   ]
  },
  {
   "cell_type": "code",
   "execution_count": null,
   "metadata": {
    "collapsed": true
   },
   "outputs": [],
   "source": []
  },
  {
   "cell_type": "code",
   "execution_count": 25,
   "metadata": {},
   "outputs": [
    {
     "data": {
      "text/plain": [
       "array([[-321.55071477]])"
      ]
     },
     "execution_count": 25,
     "metadata": {},
     "output_type": "execute_result"
    }
   ],
   "source": [
    "ln_z_x = -0.5 * n * np.log(np.pi)\n",
    "ln_z_x += 0.5 * a_0 * np.log(b_0)\n",
    "ln_z_x += sp.gammaln(0.5*(n + a_0)) - sp.gammaln(0.5*a_0)\n",
    "ln_z_x += 0.5 * np.log(np.linalg.det(Q_0)) - 0.5 * np.log(np.linalg.det(M_x))\n",
    "F_x = mu_0.T.dot(Q_0).dot(mu_0 + np.linalg.inv(M_x).dot(Q_0).dot(mu_0) + 2.0 * np.linalg.inv(M_x).dot(X.T).dot(y))\n",
    "#F_x = 0\n",
    "ln_z_x += -0.5 * (n + a_0) * np.log(y.T.dot(R_x).dot(y) + F_x + b_0)\n",
    "ln_z_x"
   ]
  },
  {
   "cell_type": "code",
   "execution_count": null,
   "metadata": {
    "collapsed": true
   },
   "outputs": [],
   "source": []
  },
  {
   "cell_type": "code",
   "execution_count": 24,
   "metadata": {},
   "outputs": [
    {
     "data": {
      "text/plain": [
       "array([[-316.68416081]])"
      ]
     },
     "execution_count": 24,
     "metadata": {},
     "output_type": "execute_result"
    }
   ],
   "source": [
    "ln_z_z = -0.5 * n * np.log(np.pi)\n",
    "ln_z_z += 0.5 * a_0 * np.log(b_0)\n",
    "ln_z_z += sp.gammaln(0.5*(n + a_0)) - sp.gammaln(0.5*a_0)\n",
    "ln_z_z += 0.5 * np.log(np.linalg.det(Q_0)) - 0.5 * np.log(np.linalg.det(M_z))\n",
    "F_z = mu_0.T.dot(Q_0).dot(mu_0 + np.linalg.inv(M_z).dot(Q_0).dot(mu_0) + 2.0 * np.linalg.inv(M_z).dot(Z.T).dot(y))\n",
    "#F_z = 0\n",
    "ln_z_z += -0.5 * (n + a_0) * np.log(y.T.dot(R_z).dot(y) + F_z + b_0)\n",
    "ln_z_z"
   ]
  },
  {
   "cell_type": "code",
   "execution_count": 36,
   "metadata": {},
   "outputs": [
    {
     "data": {
      "text/plain": [
       "array([[4.86655396]])"
      ]
     },
     "execution_count": 36,
     "metadata": {},
     "output_type": "execute_result"
    }
   ],
   "source": [
    "ln_z_z - ln_z_x"
   ]
  },
  {
   "cell_type": "code",
   "execution_count": 35,
   "metadata": {},
   "outputs": [
    {
     "data": {
      "text/plain": [
       "array([[129.87259901]])"
      ]
     },
     "execution_count": 35,
     "metadata": {},
     "output_type": "execute_result"
    }
   ],
   "source": [
    "np.exp(ln_z_z - ln_z_x)"
   ]
  },
  {
   "cell_type": "code",
   "execution_count": null,
   "metadata": {
    "collapsed": true
   },
   "outputs": [],
   "source": []
  },
  {
   "cell_type": "code",
   "execution_count": null,
   "metadata": {
    "collapsed": true
   },
   "outputs": [],
   "source": []
  },
  {
   "cell_type": "code",
   "execution_count": 30,
   "metadata": {},
   "outputs": [
    {
     "data": {
      "text/plain": [
       "array([[-310.12828554]])"
      ]
     },
     "execution_count": 30,
     "metadata": {},
     "output_type": "execute_result"
    }
   ],
   "source": [
    "beta0_x = np.linalg.inv(M_x).dot(X.T.dot(y) + Q_0.dot(mu_0))\n",
    "c0_x = y.T.dot(y) + mu_0.T.dot(Q_0).dot(mu_0) - beta0_x.T.dot(M_x).dot(beta0_x)\n",
    "\n",
    "ln_z2_x = -0.5 * n * np.log(np.pi)\n",
    "ln_z2_x += 0.5 * a_0 * np.log(b_0)\n",
    "ln_z2_x += sp.gammaln(0.5*(n + a_0)) - sp.gammaln(0.5*a_0)\n",
    "ln_z2_x += 0.5 * np.log(np.linalg.det(Q_0)) - 0.5 * np.log(np.linalg.det(M_x))\n",
    "\n",
    "ln_z2_x += -0.5 * (n + a_0) * np.log(c0_x + b_0)\n",
    "ln_z2_x"
   ]
  },
  {
   "cell_type": "code",
   "execution_count": 31,
   "metadata": {},
   "outputs": [
    {
     "data": {
      "text/plain": [
       "array([[-301.70460213]])"
      ]
     },
     "execution_count": 31,
     "metadata": {},
     "output_type": "execute_result"
    }
   ],
   "source": [
    "beta0_z = np.linalg.inv(M_z).dot(Z.T.dot(y) + Q_0.dot(mu_0))\n",
    "c0_z = y.T.dot(y) + mu_0.T.dot(Q_0).dot(mu_0) - beta0_z.T.dot(M_z).dot(beta0_z)\n",
    "\n",
    "ln_z2_z = -0.5 * n * np.log(np.pi)\n",
    "ln_z2_z += 0.5 * a_0 * np.log(b_0)\n",
    "ln_z2_z += sp.gammaln(0.5*(n + a_0)) - sp.gammaln(0.5*a_0)\n",
    "ln_z2_z += 0.5 * np.log(np.linalg.det(Q_0)) - 0.5 * np.log(np.linalg.det(M_z))\n",
    "\n",
    "ln_z2_z += -0.5 * (n + a_0) * np.log(c0_z + b_0)\n",
    "ln_z2_z"
   ]
  },
  {
   "cell_type": "code",
   "execution_count": 37,
   "metadata": {},
   "outputs": [
    {
     "data": {
      "text/plain": [
       "array([[8.4236834]])"
      ]
     },
     "execution_count": 37,
     "metadata": {},
     "output_type": "execute_result"
    }
   ],
   "source": [
    "ln_z2_z - ln_z2_x"
   ]
  },
  {
   "cell_type": "code",
   "execution_count": 38,
   "metadata": {},
   "outputs": [
    {
     "data": {
      "text/plain": [
       "array([[4553.64551112]])"
      ]
     },
     "execution_count": 38,
     "metadata": {},
     "output_type": "execute_result"
    }
   ],
   "source": [
    "np.exp(ln_z2_z - ln_z2_x)"
   ]
  },
  {
   "cell_type": "code",
   "execution_count": null,
   "metadata": {
    "collapsed": true
   },
   "outputs": [],
   "source": []
  },
  {
   "cell_type": "code",
   "execution_count": 50,
   "metadata": {
    "collapsed": true
   },
   "outputs": [],
   "source": [
    "nchains = 10"
   ]
  },
  {
   "cell_type": "code",
   "execution_count": 51,
   "metadata": {},
   "outputs": [
    {
     "data": {
      "text/plain": [
       "(1.6666666666666667e-05, 6.804138174397716e-06)"
      ]
     },
     "execution_count": 51,
     "metadata": {},
     "output_type": "execute_result"
    }
   ],
   "source": [
    "tau_prior_mean = a_0 / b_0\n",
    "tau_prior_std = np.sqrt(a_0) / b_0\n",
    "tau_prior_mean, tau_prior_std"
   ]
  },
  {
   "cell_type": "code",
   "execution_count": 70,
   "metadata": {},
   "outputs": [
    {
     "data": {
      "text/plain": [
       "-3.7457478565264813e-06"
      ]
     },
     "execution_count": 70,
     "metadata": {},
     "output_type": "execute_result"
    }
   ],
   "source": [
    "tau_prior_mean - 3.0*tau_prior_std"
   ]
  },
  {
   "cell_type": "code",
   "execution_count": 53,
   "metadata": {},
   "outputs": [
    {
     "data": {
      "text/plain": [
       "array([ 7.39187007e-06,  1.08345086e-05,  8.54835641e-06,  1.59383857e-05,\n",
       "       -5.61941030e-06,  9.25714033e-06,  8.26535565e-06,  1.14104737e-05,\n",
       "        2.01551228e-05,  2.48986363e-05])"
      ]
     },
     "execution_count": 53,
     "metadata": {},
     "output_type": "execute_result"
    }
   ],
   "source": [
    "pos_tau = tau_prior_mean + tau_prior_std * np.random.randn(nchains)\n",
    "pos_tau"
   ]
  },
  {
   "cell_type": "code",
   "execution_count": 55,
   "metadata": {},
   "outputs": [
    {
     "data": {
      "text/plain": [
       "array([4837.27340574,  913.85727972, 3777.68079219, 3251.4538334 ,\n",
       "       3164.01956058, 1935.52458506, 2554.46286628, 3375.62392695,\n",
       "       2880.16076004, 3834.11153228])"
      ]
     },
     "execution_count": 55,
     "metadata": {},
     "output_type": "execute_result"
    }
   ],
   "source": [
    "pos_alpha = mu_0[0,0] + 1.0 / np.sqrt(tau_prior_mean * r_0) * np.random.randn(nchains)\n",
    "pos_alpha"
   ]
  },
  {
   "cell_type": "code",
   "execution_count": 56,
   "metadata": {},
   "outputs": [
    {
     "data": {
      "text/plain": [
       "array([218.38622613, 110.18706435, 330.51855572,  34.46745184,\n",
       "       140.71419648,  45.97814764, 236.01403485, 246.32016767,\n",
       "        63.41561518, 112.97900728])"
      ]
     },
     "execution_count": 56,
     "metadata": {},
     "output_type": "execute_result"
    }
   ],
   "source": [
    "pos_beta = mu_0[1,0] +  1.0 / np.sqrt(tau_prior_mean * s_0) * np.random.randn(nchains)\n",
    "pos_beta"
   ]
  },
  {
   "cell_type": "code",
   "execution_count": 58,
   "metadata": {
    "collapsed": true
   },
   "outputs": [],
   "source": [
    "pos = np.c_[pos_alpha, pos_beta, pos_tau] "
   ]
  },
  {
   "cell_type": "code",
   "execution_count": 59,
   "metadata": {},
   "outputs": [
    {
     "data": {
      "text/plain": [
       "(10, 3)"
      ]
     },
     "execution_count": 59,
     "metadata": {},
     "output_type": "execute_result"
    }
   ],
   "source": [
    "pos.shape"
   ]
  },
  {
   "cell_type": "code",
   "execution_count": 60,
   "metadata": {},
   "outputs": [
    {
     "data": {
      "text/plain": [
       "array([[ 4.83727341e+03,  2.18386226e+02,  7.39187007e-06],\n",
       "       [ 9.13857280e+02,  1.10187064e+02,  1.08345086e-05],\n",
       "       [ 3.77768079e+03,  3.30518556e+02,  8.54835641e-06],\n",
       "       [ 3.25145383e+03,  3.44674518e+01,  1.59383857e-05],\n",
       "       [ 3.16401956e+03,  1.40714196e+02, -5.61941030e-06],\n",
       "       [ 1.93552459e+03,  4.59781476e+01,  9.25714033e-06],\n",
       "       [ 2.55446287e+03,  2.36014035e+02,  8.26535565e-06],\n",
       "       [ 3.37562393e+03,  2.46320168e+02,  1.14104737e-05],\n",
       "       [ 2.88016076e+03,  6.34156152e+01,  2.01551228e-05],\n",
       "       [ 3.83411153e+03,  1.12979007e+02,  2.48986363e-05]])"
      ]
     },
     "execution_count": 60,
     "metadata": {},
     "output_type": "execute_result"
    }
   ],
   "source": [
    "pos"
   ]
  },
  {
   "cell_type": "code",
   "execution_count": 67,
   "metadata": {},
   "outputs": [
    {
     "data": {
      "text/plain": [
       "array([4.83727341e+03, 2.18386226e+02, 7.39187007e-06])"
      ]
     },
     "execution_count": 67,
     "metadata": {},
     "output_type": "execute_result"
    }
   ],
   "source": [
    "pos[0]"
   ]
  },
  {
   "cell_type": "code",
   "execution_count": null,
   "metadata": {
    "collapsed": true
   },
   "outputs": [],
   "source": []
  },
  {
   "cell_type": "code",
   "execution_count": null,
   "metadata": {
    "collapsed": true
   },
   "outputs": [],
   "source": []
  },
  {
   "cell_type": "code",
   "execution_count": null,
   "metadata": {
    "collapsed": true
   },
   "outputs": [],
   "source": []
  },
  {
   "cell_type": "code",
   "execution_count": 62,
   "metadata": {},
   "outputs": [
    {
     "data": {
      "text/plain": [
       "array([ 1.43082163,  0.63408746, -0.15984191])"
      ]
     },
     "execution_count": 62,
     "metadata": {},
     "output_type": "execute_result"
    }
   ],
   "source": [
    "t = np.random.randn(3)\n",
    "t"
   ]
  },
  {
   "cell_type": "code",
   "execution_count": 66,
   "metadata": {},
   "outputs": [
    {
     "data": {
      "text/plain": [
       "(1.4308216305656543, 0.6340874640655172, -0.15984191433065886)"
      ]
     },
     "execution_count": 66,
     "metadata": {},
     "output_type": "execute_result"
    }
   ],
   "source": [
    "q, w, e = t\n",
    "q, w, e"
   ]
  },
  {
   "cell_type": "code",
   "execution_count": null,
   "metadata": {
    "collapsed": true
   },
   "outputs": [],
   "source": []
  },
  {
   "cell_type": "code",
   "execution_count": null,
   "metadata": {
    "collapsed": true
   },
   "outputs": [],
   "source": []
  },
  {
   "cell_type": "code",
   "execution_count": null,
   "metadata": {
    "collapsed": true
   },
   "outputs": [],
   "source": []
  },
  {
   "cell_type": "code",
   "execution_count": 7,
   "metadata": {
    "collapsed": true
   },
   "outputs": [],
   "source": [
    "ln_evidence_x = -310.15360598478964"
   ]
  },
  {
   "cell_type": "code",
   "execution_count": 8,
   "metadata": {
    "collapsed": true
   },
   "outputs": [],
   "source": [
    "ln_evidence_z = -301.44233980429595"
   ]
  },
  {
   "cell_type": "code",
   "execution_count": null,
   "metadata": {
    "collapsed": true
   },
   "outputs": [],
   "source": []
  },
  {
   "cell_type": "code",
   "execution_count": 7,
   "metadata": {
    "collapsed": true
   },
   "outputs": [],
   "source": [
    "ln_evidence_x = -310.1525497643574"
   ]
  },
  {
   "cell_type": "code",
   "execution_count": 8,
   "metadata": {
    "collapsed": true
   },
   "outputs": [],
   "source": [
    "ln_evidence_z = -301.44168064838254"
   ]
  },
  {
   "cell_type": "code",
   "execution_count": null,
   "metadata": {
    "collapsed": true
   },
   "outputs": [],
   "source": []
  },
  {
   "cell_type": "code",
   "execution_count": null,
   "metadata": {
    "collapsed": true
   },
   "outputs": [],
   "source": [
    "# a_0 = 3, b_0 = 2 * 300**2"
   ]
  },
  {
   "cell_type": "code",
   "execution_count": 12,
   "metadata": {
    "collapsed": true
   },
   "outputs": [],
   "source": [
    "ln_evidence_x = -310.11603987644287"
   ]
  },
  {
   "cell_type": "code",
   "execution_count": 13,
   "metadata": {
    "collapsed": true
   },
   "outputs": [],
   "source": [
    "ln_evidence_z = -301.7014144825633"
   ]
  },
  {
   "cell_type": "code",
   "execution_count": null,
   "metadata": {
    "collapsed": true
   },
   "outputs": [],
   "source": []
  },
  {
   "cell_type": "code",
   "execution_count": 17,
   "metadata": {
    "collapsed": true
   },
   "outputs": [],
   "source": [
    "ln_evidence_x = -310.1269508286002"
   ]
  },
  {
   "cell_type": "code",
   "execution_count": null,
   "metadata": {
    "collapsed": true
   },
   "outputs": [],
   "source": [
    "ln_evidence_z = -301.70073402975044"
   ]
  },
  {
   "cell_type": "code",
   "execution_count": null,
   "metadata": {
    "collapsed": true
   },
   "outputs": [],
   "source": []
  },
  {
   "cell_type": "code",
   "execution_count": null,
   "metadata": {
    "collapsed": true
   },
   "outputs": [],
   "source": []
  },
  {
   "cell_type": "code",
   "execution_count": 21,
   "metadata": {},
   "outputs": [
    {
     "data": {
      "text/plain": [
       "8.41462546495768"
      ]
     },
     "execution_count": 21,
     "metadata": {},
     "output_type": "execute_result"
    }
   ],
   "source": [
    "ln_evidence_z - ln_evidence_x"
   ]
  },
  {
   "cell_type": "code",
   "execution_count": 22,
   "metadata": {},
   "outputs": [
    {
     "data": {
      "text/plain": [
       "4512.585117006154"
      ]
     },
     "execution_count": 22,
     "metadata": {},
     "output_type": "execute_result"
    }
   ],
   "source": [
    "np.exp(ln_evidence_z - ln_evidence_x)"
   ]
  },
  {
   "cell_type": "code",
   "execution_count": 16,
   "metadata": {},
   "outputs": [
    {
     "data": {
      "text/plain": [
       "8.423684388158511"
      ]
     },
     "execution_count": 16,
     "metadata": {},
     "output_type": "execute_result"
    }
   ],
   "source": [
    "np.log(4553.65)"
   ]
  },
  {
   "cell_type": "code",
   "execution_count": null,
   "metadata": {
    "collapsed": true
   },
   "outputs": [],
   "source": []
  },
  {
   "cell_type": "code",
   "execution_count": null,
   "metadata": {
    "collapsed": true
   },
   "outputs": [],
   "source": []
  },
  {
   "cell_type": "code",
   "execution_count": null,
   "metadata": {
    "collapsed": true
   },
   "outputs": [],
   "source": []
  },
  {
   "cell_type": "code",
   "execution_count": 24,
   "metadata": {},
   "outputs": [
    {
     "data": {
      "text/plain": [
       "array([1, 2])"
      ]
     },
     "execution_count": 24,
     "metadata": {},
     "output_type": "execute_result"
    }
   ],
   "source": [
    "x_2d = np.array([1, 2])\n",
    "x_2d"
   ]
  },
  {
   "cell_type": "code",
   "execution_count": 25,
   "metadata": {},
   "outputs": [
    {
     "data": {
      "text/plain": [
       "array([1, 2, 3])"
      ]
     },
     "execution_count": 25,
     "metadata": {},
     "output_type": "execute_result"
    }
   ],
   "source": [
    "np.append(x_2d, [3])"
   ]
  },
  {
   "cell_type": "code",
   "execution_count": 33,
   "metadata": {},
   "outputs": [
    {
     "name": "stdout",
     "output_type": "stream",
     "text": [
      "0 1\n",
      "1 2\n",
      "2 3\n",
      "3 4\n"
     ]
    }
   ],
   "source": [
    "for i,j in enumerate(range(1, 5)):\n",
    "    print(i,j)"
   ]
  },
  {
   "cell_type": "code",
   "execution_count": null,
   "metadata": {
    "collapsed": true
   },
   "outputs": [],
   "source": []
  }
 ],
 "metadata": {
  "kernelspec": {
   "display_name": "Python 3",
   "language": "python",
   "name": "python3"
  },
  "language_info": {
   "codemirror_mode": {
    "name": "ipython",
    "version": 3
   },
   "file_extension": ".py",
   "mimetype": "text/x-python",
   "name": "python",
   "nbconvert_exporter": "python",
   "pygments_lexer": "ipython3",
   "version": "3.6.3"
  }
 },
 "nbformat": 4,
 "nbformat_minor": 2
}
